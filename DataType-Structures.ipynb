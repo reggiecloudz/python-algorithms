{
 "cells": [
  {
   "cell_type": "code",
   "execution_count": null,
   "metadata": {},
   "outputs": [],
   "source": []
  }
 ],
 "metadata": {
  "kernelspec": {
   "display_name": "Python 3.10.6 ('.env': venv)",
   "language": "python",
   "name": "python3"
  },
  "language_info": {
   "name": "python",
   "version": "3.10.6"
  },
  "orig_nbformat": 4,
  "vscode": {
   "interpreter": {
    "hash": "498169a032fcbdf5e064520127827eafded4341d1d3d03d32354f5b7776300fc"
   }
  }
 },
 "nbformat": 4,
 "nbformat_minor": 2
}
